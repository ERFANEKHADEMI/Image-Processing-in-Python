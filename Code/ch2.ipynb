{
 "cells": [
  {
   "cell_type": "markdown",
   "metadata": {},
   "source": [
    "Edge detection\n",
    "\n",
    "In this exercise, you'll detect edges in an image by applying the Sobel filter.\n",
    "Soap pills of heart and rectangle shapes in blue background\n",
    "Image preloaded as soaps_image.\n",
    "\n",
    "Theshow_image() function has been already loaded for you.\n",
    "\n",
    "Let's see if it spots all the figures in the image."
   ]
  },
  {
   "cell_type": "code",
   "execution_count": null,
   "metadata": {},
   "outputs": [],
   "source": [
    "# Import the color module\n",
    "from skimage import color\n",
    "\n",
    "# Import the filters module and sobel function\n",
    "from skimage.filters import sobel\n",
    "\n",
    "# Make the image grayscale\n",
    "soaps_image_gray = color.rgb2grey(soaps_image)\n",
    "\n",
    "# Apply edge detection filter\n",
    "edge_sobel = sobel(soaps_image_gray)\n",
    "\n",
    "# Show original and resulting image to compare\n",
    "show_image(soaps_image, \"Original\")\n",
    "show_image(edge_sobel, \"Edges with Sobel\")"
   ]
  },
  {
   "cell_type": "markdown",
   "metadata": {},
   "source": [
    "Blurring to reduce noise\n",
    "\n",
    "In this exercise you will reduce the sharpness of an image of a building taken during a London trip, through filtering.\n",
    "\n",
    "Building in Lodon\n",
    "Image loaded as building_image. "
   ]
  },
  {
   "cell_type": "code",
   "execution_count": null,
   "metadata": {},
   "outputs": [],
   "source": [
    "# Import Gaussian filter \n",
    "from skimage.filters import gaussian\n",
    "\n",
    "# Apply filter\n",
    "gaussian_image = gaussian(building_image, multichannel=True)\n",
    "\n",
    "# Show original and resulting image to compare\n",
    "show_image(building_image, \"Original\")\n",
    "show_image(gaussian_image, \"Reduced sharpness Gaussian\")"
   ]
  },
  {
   "cell_type": "markdown",
   "metadata": {},
   "source": [
    "What's the contrast of this image?\n",
    "\n",
    "Black and white clock hanging and moving Histogram of the clock's image\n",
    "\n",
    "The histogram tell us.\n",
    "\n",
    "Just as we saw previously, you can calculate the contrast by calculating the range of the pixel intensities i.e. by subtracting the minimum pixel intensity value from the histogram to the maximum one.\n",
    "\n",
    "You can obtain the maximum pixel intensity of the image by using the np.max() method from NumPy and the minimum with np.min() in the console.\n",
    "\n",
    "The image has already been loaded as clock_image, NumPy as np and the show_image() function."
   ]
  },
  {
   "cell_type": "code",
   "execution_count": null,
   "metadata": {},
   "outputs": [],
   "source": [
    "# Import the required module\n",
    "from skimage import exposure\n",
    "\n",
    "# Show original x-ray image and its histogram\n",
    "show_image(chest_xray_image, 'Original x-ray')\n",
    "\n",
    "plt.title('Histogram of image')\n",
    "plt.hist(chest_xray_image.ravel(), bins=256)\n",
    "plt.show()\n",
    "\n",
    "# Use histogram equalization to improve the contrast\n",
    "xray_image_eq =  exposure.equalize_hist(chest_xray_image)\n",
    "\n",
    "# Show the resulting image\n",
    "show_image(xray_image_eq, 'Resulting image')"
   ]
  },
  {
   "cell_type": "markdown",
   "metadata": {},
   "source": [
    "Aerial image\n",
    "\n",
    "In this exercise, we will improve the quality of an aerial image of a city. The image has low contrast and therefore we can not distinguish all the elements in it.\n",
    "Aerial image, airport taken from the air\n",
    "Image loaded as image_aerial.\n",
    "\n",
    "For this we will use the normal or standard technique of Histogram Equalization."
   ]
  },
  {
   "cell_type": "code",
   "execution_count": null,
   "metadata": {},
   "outputs": [],
   "source": [
    "# Import the required module\n",
    "from skimage import exposure\n",
    "\n",
    "# Use histogram equalization to improve the contrast\n",
    "image_eq =  exposure.equalize_hist(image_aerial)\n",
    "\n",
    "# Show the original and resulting image\n",
    "show_image(image_aerial, 'Original')\n",
    "show_image(image_eq, 'Resulting image')"
   ]
  },
  {
   "cell_type": "markdown",
   "metadata": {},
   "source": [
    "In this exercise, you'll increase the contrast of a cup of coffee. Something you could share with your friends on social media. Don't forget to use #ImageProcessingDatacamp as hashtag!\n",
    "\n",
    "Even though this is not our Sunday morning coffee cup, you can still apply the same methods to any of our photos.\n",
    "\n",
    "Cup of coffee\n",
    "\n",
    "A function called show_image(), that displays an image using Matplotlib, has already been defined. It has the arguments image and title, with title being 'Original' by default."
   ]
  },
  {
   "cell_type": "code",
   "execution_count": null,
   "metadata": {},
   "outputs": [],
   "source": [
    "# Import the necessary modules\n",
    "from skimage import data, exposure\n",
    "\n",
    "# Load the image\n",
    "original_image = data.coffee()\n",
    "\n",
    "# Apply the adaptive equalization on the original image\n",
    "adapthist_eq_image = exposure.equalize_adapthist(original_image, clip_limit=0.03)\n",
    "\n",
    "# Compare the original image to the equalized\n",
    "show_image(original_image)\n",
    "show_image(adapthist_eq_image, '#ImageProcessingDatacamp')"
   ]
  },
  {
   "cell_type": "markdown",
   "metadata": {},
   "source": [
    "Aliasing, rotating and rescaling\n",
    "\n",
    "Let's look at the impact of aliasing on images.\n",
    "\n",
    "Remember that aliasing is an effect that causes different signals, in this case pixels, to become indistinguishable or distorted.\n",
    "\n",
    "You'll make this cat image upright by rotating it 90 degrees and then rescaling it two times. Once with the anti aliasing filter applied before rescaling and a second time without it, so you can compare them.\n",
    "\n",
    "Little cute cat\n",
    "Image preloaded as image_cat. "
   ]
  },
  {
   "cell_type": "code",
   "execution_count": null,
   "metadata": {},
   "outputs": [],
   "source": [
    "# Import the module and the rotate and rescale functions\n",
    "from skimage.transform import rotate, rescale\n",
    "\n",
    "# Rotate the image 90 degrees clockwise \n",
    "rotated_cat_image = rotate(image_cat, -90)\n",
    "\n",
    "# Rescale with anti aliasing\n",
    "rescaled_with_aa = rescale(rotated_cat_image, 1/4, anti_aliasing=True, multichannel=True)\n",
    "\n",
    "# Rescale without anti aliasing\n",
    "rescaled_without_aa = rescale(rotated_cat_image, 1/4, anti_aliasing=False, multichannel=True)\n",
    "\n",
    "# Show the resulting images\n",
    "show_image(rescaled_with_aa, \"Transformed with anti aliasing\")\n",
    "show_image(rescaled_without_aa, \"Transformed without anti aliasing\")"
   ]
  },
  {
   "cell_type": "markdown",
   "metadata": {},
   "source": [
    "Enlarging images\n",
    "\n",
    "Have you ever tried resizing an image to make it larger? This usually results in loss of quality, with the enlarged image looking blurry.\n",
    "\n",
    "The good news is that the algorithm used by scikit-image works very well for enlarging images up to a certain point.\n",
    "\n",
    "In this exercise you'll enlarge an image three times!!\n",
    "\n",
    "You'll do this by rescaling the image of a rocket, that will be loaded from the data module."
   ]
  },
  {
   "cell_type": "code",
   "execution_count": null,
   "metadata": {},
   "outputs": [],
   "source": [
    "# Import the module and function to enlarge images\n",
    "from skimage.transform import rescale\n",
    "\n",
    "# Import the data module\n",
    "from skimage import data\n",
    "\n",
    "# Load the image from data\n",
    "rocket_image = data.rocket()\n",
    "\n",
    "# Enlarge the image so it is 3 times bigger\n",
    "enlarged_rocket_image = rescale(rocket_image, 3, anti_aliasing=True, multichannel=True)\n",
    "\n",
    "# Show original and resulting image\n",
    "show_image(rocket_image)\n",
    "show_image(enlarged_rocket_image, \"3 times enlarged image\")"
   ]
  },
  {
   "cell_type": "markdown",
   "metadata": {},
   "source": [
    "Proportionally resizing\n",
    "\n",
    "We want to downscale the images of a veterinary blog website so all of them have the same compressed size.\n",
    "\n",
    "It's important that you do this proportionally, meaning that these are not distorted.\n",
    "\n",
    "First, you'll try it out for one image so you know what code to test later in the rest of the pictures.\n",
    "\n",
    "\n",
    "The image preloaded as dogs_banner.\n",
    "\n",
    "Remember that by looking at the shape of the image, you can know its width and height."
   ]
  },
  {
   "cell_type": "code",
   "execution_count": null,
   "metadata": {},
   "outputs": [],
   "source": [
    "# Import the module and function\n",
    "from skimage.transform import resize\n",
    "\n",
    "# Set proportional height and width so it is half its size\n",
    "height = int(dogs_banner.shape[0] / 2.0)\n",
    "width = int(dogs_banner.shape[1] / 2.0)\n",
    "\n",
    "# Resize using the calculated proportional height and width\n",
    "image_resized = resize(dogs_banner, (height, width),\n",
    "                       anti_aliasing=True)\n",
    "\n",
    "# Show the original and resized image\n",
    "show_image(dogs_banner, 'Original')\n",
    "show_image(image_resized, 'Resized image')"
   ]
  },
  {
   "cell_type": "markdown",
   "metadata": {},
   "source": [
    "Handwritten letters\n",
    "\n",
    "A very interesting use of computer vision in real-life solutions is performing Optical Character Recognition (OCR) to distinguish printed or handwritten text characters inside digital images of physical documents.\n",
    "\n",
    "Let's try to improve the definition of this handwritten letter so that it's easier to classify.\n",
    "\n",
    "As we can see it's the letter R, already binary, with some noise in it. It's already loaded as upper_r_image.\n",
    "\n",
    "Apply the morphological operation that will discard the pixels near the letter boundaries."
   ]
  },
  {
   "cell_type": "code",
   "execution_count": null,
   "metadata": {},
   "outputs": [],
   "source": [
    "# Import the morphology module\n",
    "from skimage import morphology\n",
    "\n",
    "# Obtain the eroded shape \n",
    "eroded_image_shape = morphology.binary_erosion(upper_r_image) \n",
    "\n",
    "# See results\n",
    "show_image(upper_r_image, 'Original')\n",
    "show_image(eroded_image_shape, 'Eroded image')"
   ]
  },
  {
   "cell_type": "markdown",
   "metadata": {},
   "source": [
    "mproving thresholded image\n",
    "\n",
    "In this exercise, we'll try to reduce the noise of a thresholded image using the dilation morphological operation.\n",
    "\n",
    "World map\n",
    "Image already loaded as world_image.\n",
    "\n",
    "This operation, in a way, expands the objects in the image."
   ]
  },
  {
   "cell_type": "code",
   "execution_count": null,
   "metadata": {},
   "outputs": [],
   "source": [
    "# Import the module\n",
    "from skimage import morphology\n",
    "\n",
    "# Obtain the dilated image \n",
    "dilated_image = morphology.binary_dilation(world_image)\n",
    "\n",
    "# See results\n",
    "show_image(world_image, 'Original')\n",
    "show_image(dilated_image, 'Dilated image')"
   ]
  }
 ],
 "metadata": {
  "language_info": {
   "name": "python"
  }
 },
 "nbformat": 4,
 "nbformat_minor": 2
}
