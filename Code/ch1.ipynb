{
 "cells": [
  {
   "cell_type": "markdown",
   "metadata": {},
   "source": [
    "RGB to grayscale\n",
    "\n",
    "In this exercise you will load an image from scikit-image module data and make it grayscale, then compare both of them in the output.\n",
    "\n",
    "We have preloaded a function show_image(image, title='Image') that displays the image using Matplotlib. You can check more about its parameters using ?show_image() or help(show_image) in the console."
   ]
  },
  {
   "cell_type": "code",
   "execution_count": null,
   "metadata": {},
   "outputs": [],
   "source": [
    "# Import the modules from skimage\n",
    "from skimage import data, color\n",
    "\n",
    "# Load the rocket image\n",
    "rocket = data.rocket()\n",
    "\n",
    "# Convert the image to grayscale\n",
    "gray_scaled_rocket = color.rgb2gray(rocket)\n",
    "\n",
    "# Show the original image\n",
    "show_image(rocket, 'Original RGB image')\n",
    "\n",
    "# Show the grayscale image\n",
    "show_image(gray_scaled_rocket, 'Grayscale image')"
   ]
  },
  {
   "cell_type": "markdown",
   "metadata": {},
   "source": [
    "Flipping out\n",
    "\n",
    "As a prank, someone has turned an image from a photo album of a trip to Seville upside-down and back-to-front! Now, we need to straighten the image, by flipping it.\n",
    "City of Seville upside-down\n",
    "Image loaded as flipped_seville.\n",
    "Using the NumPy methods learned in the course, flip the image horizontally and vertically. Then display the corrected image using the show_image() function.\n",
    "\n",
    "NumPy is already imported as np."
   ]
  },
  {
   "cell_type": "code",
   "execution_count": null,
   "metadata": {},
   "outputs": [],
   "source": [
    "# Flip the image vertically\n",
    "seville_vertical_flip = np.flipud(flipped_seville)\n",
    "show_image(seville_vertical_flip)\n",
    "\n",
    "seville_horizantal_flip = np.fliplr(flipped_seville)\n",
    "show_image(seville_horizantal_flip)"
   ]
  },
  {
   "cell_type": "markdown",
   "metadata": {},
   "source": [
    "Histograms\n",
    "\n",
    "In this exercise, you will analyze the amount of red in the image. To do this, the histogram of the red channel will be computed for the image shown below:\n",
    "\n",
    "Woman smiling\n",
    "Image loaded as image.\n",
    "\n",
    "Extracting information from images is a fundamental part of image enhancement. This way you can balance the red and blue to make the image look colder or warmer.\n",
    "\n",
    "You will use hist() to display the 256 different intensities of the red color. And ravel() to make these color values an array of one flat dimension.\n",
    "\n",
    "Matplotlib is preloaded as plt and Numpy as np.\n",
    "\n",
    "Remember that if we want to obtain the green color of an image we would do the following:\n",
    "\n",
    "green = image[:, :, 1]\n"
   ]
  },
  {
   "cell_type": "code",
   "execution_count": null,
   "metadata": {},
   "outputs": [],
   "source": [
    "# Obtain the red channel\n",
    "red_channel = image[:, :, 0]\n",
    "\n",
    "# Plot the red histogram with bins in a range of 256\n",
    "plt.hist(red_channel.ravel(), bins=256)\n",
    "\n",
    "# Set title and show\n",
    "plt.title('Red Histogram')\n",
    "plt.show()"
   ]
  },
  {
   "cell_type": "markdown",
   "metadata": {},
   "source": [
    "Apply global thresholding\n",
    "\n",
    "In this exercise, you'll transform a photograph to binary so you can separate the foreground from the background.\n",
    "\n",
    "To do so, you need to import the required modules, load the image, obtain the optimal thresh value using threshold_otsu() and apply it to the image.\n",
    "\n",
    "You'll see the resulting binarized image when using the show_image() function, previously explained.\n",
    "\n",
    "Chess pieces\n",
    "Image loaded as chess_pieces_image.\n",
    "\n",
    "Remember we have to turn colored images to grayscale. For that we will use the rgb2gray() function learned in previous video. Which has already been imported for you."
   ]
  },
  {
   "cell_type": "code",
   "execution_count": null,
   "metadata": {},
   "outputs": [],
   "source": [
    "# Import the otsu threshold function\n",
    "from skimage.filters import threshold_otsu\n",
    "\n",
    "# Make the image grayscale using rgb2gray\n",
    "chess_pieces_image_gray = rgb2gray(chess_pieces_image)\n",
    "\n",
    "# Obtain the optimal threshold value with otsu\n",
    "thresh = threshold_otsu(chess_pieces_image_gray)\n",
    "\n",
    "# Apply thresholding to the image\n",
    "binary = chess_pieces_image_gray > thresh\n",
    "\n",
    "# Show the image\n",
    "show_image(binary, 'Binary image')"
   ]
  },
  {
   "cell_type": "markdown",
   "metadata": {},
   "source": [
    "When the background isn't that obvious\n",
    "\n",
    "Sometimes, it isn't that obvious to identify the background. If the image background is relatively uniform, then you can use a global threshold value as we practiced before, using threshold_otsu(). However, if there's uneven background illumination, adaptive thresholding threshold_local() (a.k.a. local thresholding) may produce better results.\n",
    "\n",
    "In this exercise, you will compare both types of thresholding methods (global and local), to find the optimal way to obtain the binary image we need."
   ]
  },
  {
   "cell_type": "code",
   "execution_count": null,
   "metadata": {},
   "outputs": [],
   "source": [
    "# Import the otsu threshold function\n",
    "from skimage.filters import threshold_otsu\n",
    "\n",
    "# Obtain the optimal otsu global thresh value\n",
    "global_thresh = threshold_otsu(page_image)\n",
    "\n",
    "# Obtain the binary image by applying global thresholding\n",
    "binary_global = page_image > global_thresh\n",
    "\n",
    "# Show the binary image obtained\n",
    "show_image(binary_global, 'Global thresholding')"
   ]
  },
  {
   "cell_type": "markdown",
   "metadata": {},
   "source": [
    "Trying other methods\n",
    "\n",
    "As we saw in the video, not being sure about what thresholding method to use isn't a problem. In fact, scikit-image provides us with a function to check multiple methods and see for ourselves what the best option is. It returns a figure comparing the outputs of different global thresholding methods.\n",
    "\n",
    "Forest fruits\n",
    "Image loaded as fruits_image.\n",
    "\n",
    "You will apply this function to this image, matplotlib.pyplot has been loaded as plt. Remember that you can use try_all_threshold() to try multiple global algorithms."
   ]
  },
  {
   "cell_type": "code",
   "execution_count": null,
   "metadata": {},
   "outputs": [],
   "source": [
    "# Import the try all function\n",
    "from skimage.filters import try_all_threshold\n",
    "\n",
    "# Import the rgb to gray convertor function \n",
    "from skimage.color import rgb2gray\n",
    "\n",
    "# Turn the fruits_image to grayscale\n",
    "grayscale = rgb2gray(fruits_image)\n",
    "\n",
    "# Use the try all method on the resulting grayscale image\n",
    "fig, ax = try_all_threshold(grayscale, verbose=False)\n",
    "\n",
    "# Show the resulting plots\n",
    "plt.show()"
   ]
  },
  {
   "cell_type": "markdown",
   "metadata": {},
   "source": [
    "Apply thresholding\n",
    "\n",
    "In this exercise, you will decide what type of thresholding is best used to binarize an image of knitting and craft tools. In doing so, you will be able to see the shapes of the objects, from paper hearts to scissors more clearly.\n",
    "\n",
    "Several tools for handcraft art\n",
    "Image loaded as tools_image.\n",
    "\n",
    "What type of thresholding would you use judging by the characteristics of the image? Is the background illumination and intensity even or uneven?"
   ]
  },
  {
   "cell_type": "code",
   "execution_count": null,
   "metadata": {},
   "outputs": [],
   "source": [
    "# Import threshold and gray convertor functions\n",
    "from skimage.filters import threshold_otsu\n",
    "from skimage.color import rgb2gray\n",
    "\n",
    "# Turn the image grayscale\n",
    "gray_tools_image = rgb2gray(tools_image)\n",
    "\n",
    "# Obtain the optimal thresh\n",
    "thresh = threshold_otsu(gray_tools_image)\n",
    "binary_image = gray_tools_image > thresh\n",
    "show_image(binary_image, 'Binarized image')"
   ]
  }
 ],
 "metadata": {
  "language_info": {
   "name": "python"
  }
 },
 "nbformat": 4,
 "nbformat_minor": 2
}
